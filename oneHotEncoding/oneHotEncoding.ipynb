{
 "cells": [
  {
   "cell_type": "code",
   "execution_count": 4,
   "id": "f37cfe82",
   "metadata": {},
   "outputs": [
    {
     "data": {
      "text/plain": [
       "0      Fail\n",
       "1      Pass\n",
       "2      Pass\n",
       "3    Absent\n",
       "4      Fail\n",
       "5      Fail\n",
       "6      Pass\n",
       "7      Pass\n",
       "8    Absent\n",
       "Name: result, dtype: object"
      ]
     },
     "execution_count": 4,
     "metadata": {},
     "output_type": "execute_result"
    }
   ],
   "source": [
    "import pandas as pd\n",
    "data=pd.read_csv(\"student.csv\")\n",
    "data['result']"
   ]
  },
  {
   "cell_type": "code",
   "execution_count": 6,
   "id": "1f622b42",
   "metadata": {},
   "outputs": [],
   "source": [
    "result_category =data['result']"
   ]
  },
  {
   "cell_type": "code",
   "execution_count": 18,
   "id": "bc486059",
   "metadata": {},
   "outputs": [
    {
     "data": {
      "text/plain": [
       "array([1, 2, 2, 0, 1, 1, 2, 2, 0])"
      ]
     },
     "execution_count": 18,
     "metadata": {},
     "output_type": "execute_result"
    }
   ],
   "source": [
    "from sklearn.preprocessing import LabelEncoder\n",
    "obj = LabelEncoder()\n",
    "result = obj.fit_transform(result_category)\n",
    "\n",
    "result\n",
    "\n",
    "#here it will assign values for pass,fail and absent ..but we dont use this method because ehen fail =1 and absent =0 ..model thinks that absent is close to fail..so were not using this."
   ]
  },
  {
   "cell_type": "code",
   "execution_count": 20,
   "id": "25231ab0",
   "metadata": {},
   "outputs": [],
   "source": [
    "from sklearn.preprocessing import LabelBinarizer\n",
    "obj = LabelBinarizer()\n",
    "result= obj.fit_transform(result_category)\n",
    "\n",
    "#this is the method we use"
   ]
  },
  {
   "cell_type": "code",
   "execution_count": 21,
   "id": "53082338",
   "metadata": {},
   "outputs": [
    {
     "data": {
      "text/plain": [
       "array([[0, 1, 0],\n",
       "       [0, 0, 1],\n",
       "       [0, 0, 1],\n",
       "       [1, 0, 0],\n",
       "       [0, 1, 0],\n",
       "       [0, 1, 0],\n",
       "       [0, 0, 1],\n",
       "       [0, 0, 1],\n",
       "       [1, 0, 0]])"
      ]
     },
     "execution_count": 21,
     "metadata": {},
     "output_type": "execute_result"
    }
   ],
   "source": [
    "result"
   ]
  },
  {
   "cell_type": "code",
   "execution_count": 24,
   "id": "39d48625",
   "metadata": {},
   "outputs": [
    {
     "data": {
      "text/plain": [
       "array(['Absent', 'Fail', 'Pass'], dtype='<U6')"
      ]
     },
     "execution_count": 24,
     "metadata": {},
     "output_type": "execute_result"
    }
   ],
   "source": [
    "obj.classes_"
   ]
  },
  {
   "cell_type": "code",
   "execution_count": null,
   "id": "ca8dfcff",
   "metadata": {},
   "outputs": [],
   "source": []
  }
 ],
 "metadata": {
  "kernelspec": {
   "display_name": "Python 3 (ipykernel)",
   "language": "python",
   "name": "python3"
  },
  "language_info": {
   "codemirror_mode": {
    "name": "ipython",
    "version": 3
   },
   "file_extension": ".py",
   "mimetype": "text/x-python",
   "name": "python",
   "nbconvert_exporter": "python",
   "pygments_lexer": "ipython3",
   "version": "3.10.6"
  }
 },
 "nbformat": 4,
 "nbformat_minor": 5
}
