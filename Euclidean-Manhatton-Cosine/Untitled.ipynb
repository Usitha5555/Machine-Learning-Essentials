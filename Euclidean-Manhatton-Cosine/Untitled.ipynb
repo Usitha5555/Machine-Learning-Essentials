{
 "cells": [
  {
   "cell_type": "code",
   "execution_count": 4,
   "id": "286277a2",
   "metadata": {},
   "outputs": [],
   "source": [
    "A=(5,2)\n",
    "B=(2,4)"
   ]
  },
  {
   "cell_type": "code",
   "execution_count": 2,
   "id": "a9f3800a",
   "metadata": {},
   "outputs": [],
   "source": [
    "from scipy.spatial import distance"
   ]
  },
  {
   "cell_type": "code",
   "execution_count": 5,
   "id": "c47493fd",
   "metadata": {},
   "outputs": [
    {
     "name": "stdout",
     "output_type": "stream",
     "text": [
      "3.605551275463989\n"
     ]
    }
   ],
   "source": [
    "#Euclidean distance\n",
    "d = distance.euclidean(A,B)\n",
    "print(d)"
   ]
  },
  {
   "cell_type": "code",
   "execution_count": 6,
   "id": "173b7c44",
   "metadata": {},
   "outputs": [
    {
     "name": "stdout",
     "output_type": "stream",
     "text": [
      "5\n"
     ]
    }
   ],
   "source": [
    "#manhatton\n",
    "\n",
    "d= distance.cityblock(A,B)\n",
    "print(d)"
   ]
  },
  {
   "cell_type": "code",
   "execution_count": null,
   "id": "ae4d1e5f",
   "metadata": {},
   "outputs": [],
   "source": []
  }
 ],
 "metadata": {
  "kernelspec": {
   "display_name": "Python 3 (ipykernel)",
   "language": "python",
   "name": "python3"
  },
  "language_info": {
   "codemirror_mode": {
    "name": "ipython",
    "version": 3
   },
   "file_extension": ".py",
   "mimetype": "text/x-python",
   "name": "python",
   "nbconvert_exporter": "python",
   "pygments_lexer": "ipython3",
   "version": "3.10.6"
  }
 },
 "nbformat": 4,
 "nbformat_minor": 5
}
