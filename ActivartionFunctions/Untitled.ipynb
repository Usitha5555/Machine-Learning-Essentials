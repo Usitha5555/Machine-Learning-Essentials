{
 "cells": [
  {
   "cell_type": "markdown",
   "id": "cd3e770e",
   "metadata": {},
   "source": [
    "# sigmoid"
   ]
  },
  {
   "cell_type": "code",
   "execution_count": 1,
   "id": "3f9ea60d",
   "metadata": {},
   "outputs": [
    {
     "name": "stdout",
     "output_type": "stream",
     "text": [
      "13 --> 0.999997739675702\n",
      "3 --> 0.9525741268224334\n",
      "-12 --> 6.144174602214718e-06\n"
     ]
    }
   ],
   "source": [
    "import numpy as np\n",
    "\n",
    "#sigmoid activation fuction\n",
    "def sigmoid(x):\n",
    "    return 1.0/(1.0 + np.exp(-x))\n",
    "inputs = [13,3,-12]\n",
    "\n",
    "for x in inputs:\n",
    "    print('{} --> {}'.format(x,sigmoid(x)))"
   ]
  },
  {
   "cell_type": "markdown",
   "id": "101ea68c",
   "metadata": {},
   "source": [
    "# tanh Function"
   ]
  },
  {
   "cell_type": "code",
   "execution_count": 5,
   "id": "6259aef8",
   "metadata": {},
   "outputs": [
    {
     "name": "stdout",
     "output_type": "stream",
     "text": [
      "13 --> 0.9999999999897818\n",
      "3 --> 0.9950547536867306\n",
      "-12 --> -0.9999999999244972\n"
     ]
    }
   ],
   "source": [
    "def tanh(x):\n",
    "    return (np.exp(x)-np.exp(-x))/(np.exp(x)+ np.exp(-x))\n",
    "inputs = [13,3,-12]\n",
    "\n",
    "for x in inputs:\n",
    "    print('{} --> {}'.format(x,tanh(x)))"
   ]
  },
  {
   "cell_type": "markdown",
   "id": "0b70ef1b",
   "metadata": {},
   "source": [
    "# Relu Function"
   ]
  },
  {
   "cell_type": "code",
   "execution_count": 3,
   "id": "4d2eb08e",
   "metadata": {},
   "outputs": [
    {
     "name": "stdout",
     "output_type": "stream",
     "text": [
      "13 -->13 \n",
      "3 -->3 \n",
      "-12 -->0.0 \n"
     ]
    }
   ],
   "source": [
    "def relu(x):\n",
    "    return max(0.0, x) \n",
    "\n",
    "inputs = [13,3,-12]\n",
    "\n",
    "\n",
    "for x in inputs:\n",
    "    print('{} -->{} '.format(x,relu(x)))"
   ]
  },
  {
   "cell_type": "markdown",
   "id": "a037fb29",
   "metadata": {},
   "source": [
    "# leakyRelu"
   ]
  },
  {
   "cell_type": "code",
   "execution_count": 4,
   "id": "d249c45b",
   "metadata": {},
   "outputs": [
    {
     "name": "stdout",
     "output_type": "stream",
     "text": [
      "13 -->13 \n",
      "3 -->3 \n",
      "-12 -->-1.2000000000000002 \n"
     ]
    }
   ],
   "source": [
    "def leakyRelu(x):\n",
    "    return max(0.1*x, x) \n",
    "\n",
    "inputs = [13,3,-12]\n",
    "\n",
    "\n",
    "for x in inputs:\n",
    "    print('{} -->{} '.format(x,leakyRelu(x)))"
   ]
  },
  {
   "cell_type": "markdown",
   "id": "2cc995eb",
   "metadata": {},
   "source": [
    "# Softmax"
   ]
  },
  {
   "cell_type": "code",
   "execution_count": 10,
   "id": "efa47c77",
   "metadata": {},
   "outputs": [
    {
     "name": "stdout",
     "output_type": "stream",
     "text": [
      "[0.11849965 0.8756006  0.00589975]\n"
     ]
    }
   ],
   "source": [
    "def softmax(x):\n",
    "    return np.exp(x) / np.exp(x).sum()\n",
    "\n",
    "inputs = [1,3,-2]\n",
    "\n",
    "\n",
    "\n",
    "print(softmax(inputs)) #gets the probability"
   ]
  },
  {
   "cell_type": "code",
   "execution_count": null,
   "id": "747bfbc8",
   "metadata": {},
   "outputs": [],
   "source": []
  }
 ],
 "metadata": {
  "kernelspec": {
   "display_name": "Python 3 (ipykernel)",
   "language": "python",
   "name": "python3"
  },
  "language_info": {
   "codemirror_mode": {
    "name": "ipython",
    "version": 3
   },
   "file_extension": ".py",
   "mimetype": "text/x-python",
   "name": "python",
   "nbconvert_exporter": "python",
   "pygments_lexer": "ipython3",
   "version": "3.10.6"
  }
 },
 "nbformat": 4,
 "nbformat_minor": 5
}
